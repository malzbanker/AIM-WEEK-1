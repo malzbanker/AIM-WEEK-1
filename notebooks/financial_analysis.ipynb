{
 "cells": [
  {
   "cell_type": "code",
   "execution_count": 1,
   "metadata": {},
   "outputs": [],
   "source": [
    "import os\n",
    "import sys\n",
    "import pandas as pd\n",
    "import yfinance as yf\n",
    "import plotly as px"
   ]
  },
  {
   "cell_type": "code",
   "execution_count": 5,
   "metadata": {},
   "outputs": [
    {
     "name": "stdout",
     "output_type": "stream",
     "text": [
      "c:\\Users\\HP\\Desktop\\10 Acadamy\\AIM Week 1\\AIM-Week-1\\AIM-WEEK-1\\notebooks\n",
      "c:\\Users\\HP\\Desktop\\10 Acadamy\\AIM Week 1\\AIM-Week-1\\AIM-WEEK-1\n"
     ]
    }
   ],
   "source": [
    "# current working directory\n",
    "current_dir=os.getcwd()\n",
    "print(current_dir)\n",
    "\n",
    "# Get the parent directory\n",
    "parent_dir=os.path.dirname(current_dir)\n",
    "print(parent_dir)\n",
    "\n",
    "# Insert the path to parent directory\n",
    "sys.path.insert(0,parent_dir)"
   ]
  },
  {
   "cell_type": "code",
   "execution_count": null,
   "metadata": {},
   "outputs": [],
   "source": [
    "from scripts.financial_analyzer import FinancialAnalyzer"
   ]
  },
  {
   "cell_type": "code",
   "execution_count": null,
   "metadata": {},
   "outputs": [],
   "source": [
    "#read and print stovk tickers\n",
    "tickers=pd.read_html('https')\n",
    "tickers.head()"
   ]
  },
  {
   "cell_type": "code",
   "execution_count": null,
   "metadata": {},
   "outputs": [],
   "source": [
    "import plotly.graph_objects as go\n",
    "from plotly._subplots import make_subplots\n",
    "\n",
    "msft=yf.ticker('MSFT')\n",
    "hist=msft.history(period='max')\n",
    "\n",
    "fig=make_subplots(rows=1,cols=4,subplots_title=['Close','Open','High','Low'])\n",
    "\n",
    "fig.add_trace(go.scatter(x=hist.index, y=hist['Close']),row=1, cols=1)\n",
    "fig.add_trace(go.scatter(x=hist.index, y=hist['Open']),row=1, cols=2)\n",
    "fig.add_trace(go.scatter(x=hist.index, y=hist['High']),row=1, cols=3)\n",
    "fig.add_trace(go.scatter(x=hist.index, y=hist['Low']),row=1, cols=4)\n",
    "\n",
    "fig=update_layout(height=400, width=1200, title_text='Microsoft stock Analysis')\n",
    "fig.show()"
   ]
  },
  {
   "cell_type": "code",
   "execution_count": null,
   "metadata": {},
   "outputs": [],
   "source": [
    "# creat an instance of FinancialAnalyzer class\n",
    "analyzer=FinancialAnalyzer('AAPL','2008-01-01','2024-12-31')"
   ]
  },
  {
   "cell_type": "code",
   "execution_count": null,
   "metadata": {},
   "outputs": [],
   "source": [
    "#Retrive stock data\n",
    "stock_data=analyzer.retriev_stock_data()\n",
    "stock_data"
   ]
  },
  {
   "cell_type": "code",
   "execution_count": null,
   "metadata": {},
   "outputs": [],
   "source": [
    "# calculate technical indictors\n",
    "stock_data_indicators=analyzer.calculate_technical_indicators(stock_data)\n",
    "stock_data_indicators.tail()"
   ]
  },
  {
   "cell_type": "code",
   "execution_count": null,
   "metadata": {},
   "outputs": [],
   "source": [
    "#plot stock data\n",
    "analyzer.plot_stock_data(stock_data)\n"
   ]
  },
  {
   "cell_type": "code",
   "execution_count": null,
   "metadata": {},
   "outputs": [],
   "source": [
    "#plot rsi\n",
    "analyzer.plot_rsi(stock_data)"
   ]
  },
  {
   "cell_type": "code",
   "execution_count": null,
   "metadata": {},
   "outputs": [],
   "source": [
    "#plot EMA\n",
    "analyzer.plot_ema(stock_data)"
   ]
  },
  {
   "cell_type": "code",
   "execution_count": null,
   "metadata": {},
   "outputs": [],
   "source": [
    "#plot MACD\n",
    "analyzer.plot_macd(stock_data)"
   ]
  },
  {
   "cell_type": "code",
   "execution_count": null,
   "metadata": {},
   "outputs": [],
   "source": [
    "# Creat an instance of Financialanalyzer calss\n",
    "analyzer=FinancialAnalyzer('AAPL', '2020-01-01','2020-12-31')"
   ]
  },
  {
   "cell_type": "code",
   "execution_count": null,
   "metadata": {},
   "outputs": [],
   "source": [
    "#calculate portfolio weight\n",
    "weights=analyzer.calculate_portfolio_weights(['AAPL', 'GOOG','MSFT'],'2020-01-01','2020-12-31')\n",
    "print(weights)"
   ]
  },
  {
   "cell_type": "code",
   "execution_count": null,
   "metadata": {},
   "outputs": [],
   "source": [
    "# calaculate portfolio performance\n",
    "performance=analyzer.calculate_portfolio_performance(['AAPL', 'GOOG','MSFT'],'2020-01-01','2020-12-31')\n",
    "print(performance)"
   ]
  },
  {
   "cell_type": "code",
   "execution_count": null,
   "metadata": {},
   "outputs": [],
   "source": [
    "weights=analyzer.calculate_portfolio_weights(['AMZN', 'META','TSLA'],'2020-01-01','2020-12-31')\n",
    "print(weights)"
   ]
  },
  {
   "cell_type": "code",
   "execution_count": null,
   "metadata": {},
   "outputs": [],
   "source": [
    "performance=analyzer.calculate_portfolio_performance(['AMZN', 'META','TSLA'],'2020-01-01','2020-12-31')\n",
    "print(performance)"
   ]
  },
  {
   "cell_type": "code",
   "execution_count": null,
   "metadata": {},
   "outputs": [],
   "source": [
    "#calculate portfolio performance \n",
    "portfolio_returns,portfolio_volatility,sharpe_ratio=analyzer.calculate_portfolio_performance()"
   ]
  }
 ],
 "metadata": {
  "kernelspec": {
   "display_name": ".novafs",
   "language": "python",
   "name": "python3"
  },
  "language_info": {
   "codemirror_mode": {
    "name": "ipython",
    "version": 3
   },
   "file_extension": ".py",
   "mimetype": "text/x-python",
   "name": "python",
   "nbconvert_exporter": "python",
   "pygments_lexer": "ipython3",
   "version": "3.13.1"
  }
 },
 "nbformat": 4,
 "nbformat_minor": 2
}
