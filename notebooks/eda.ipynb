{
 "cells": [
  {
   "cell_type": "code",
   "execution_count": 9,
   "metadata": {},
   "outputs": [],
   "source": [
    "import pandas as pd \n",
    "import numpy as np \n",
    " \n",
    "import matplotlib.pyplot as plt \n",
    "\n",
    "\n",
    "\n",
    "\n",
    "import os"
   ]
  },
  {
   "cell_type": "code",
   "execution_count": 10,
   "metadata": {},
   "outputs": [
    {
     "name": "stdout",
     "output_type": "stream",
     "text": [
      "c:\\Users\\HP\\Desktop\\10 Acadamy\\AIM Week 1\\AIM-Week-1\\AIM-WEEK-1\\notebooks\n",
      "   Unnamed: 0                                           headline  \\\n",
      "0           0            Stocks That Hit 52-Week Highs On Friday   \n",
      "1           1         Stocks That Hit 52-Week Highs On Wednesday   \n",
      "2           2                      71 Biggest Movers From Friday   \n",
      "3           3       46 Stocks Moving In Friday's Mid-Day Session   \n",
      "4           4  B of A Securities Maintains Neutral on Agilent...   \n",
      "\n",
      "                                                 url          publisher  \\\n",
      "0  https://www.benzinga.com/news/20/06/16190091/s...  Benzinga Insights   \n",
      "1  https://www.benzinga.com/news/20/06/16170189/s...  Benzinga Insights   \n",
      "2  https://www.benzinga.com/news/20/05/16103463/7...         Lisa Levin   \n",
      "3  https://www.benzinga.com/news/20/05/16095921/4...         Lisa Levin   \n",
      "4  https://www.benzinga.com/news/20/05/16095304/b...         Vick Meyer   \n",
      "\n",
      "                        date stock  \n",
      "0  2020-06-05 10:30:54-04:00     A  \n",
      "1  2020-06-03 10:45:20-04:00     A  \n",
      "2  2020-05-26 04:30:07-04:00     A  \n",
      "3  2020-05-22 12:45:06-04:00     A  \n",
      "4  2020-05-22 11:38:59-04:00     A  \n"
     ]
    }
   ],
   "source": [
    "print(os.getcwd())\n",
    "\n",
    "\n",
    "\n",
    "# Import the CSV file\n",
    "file_path = '../data/raw_analyst_ratings.csv'\n",
    "data = pd.read_csv(file_path)\n",
    "\n",
    "# Display the first few rows\n",
    "print(data.head())\n",
    "\n"
   ]
  },
  {
   "cell_type": "code",
   "execution_count": 11,
   "metadata": {},
   "outputs": [
    {
     "name": "stdout",
     "output_type": "stream",
     "text": [
      "Headline Length Statistics:\n",
      " count    1.407328e+06\n",
      "mean     7.312051e+01\n",
      "std      4.073531e+01\n",
      "min      3.000000e+00\n",
      "25%      4.700000e+01\n",
      "50%      6.400000e+01\n",
      "75%      8.700000e+01\n",
      "max      5.120000e+02\n",
      "Name: headline_length, dtype: float64\n"
     ]
    }
   ],
   "source": [
    "\n",
    "# Calculate headline lengths\n",
    "data['headline_length'] = data['headline'].apply(len)\n",
    "\n",
    "# Descriptive statistics for headline lengths\n",
    "headline_stats = data['headline_length'].describe()\n",
    "print(\"Headline Length Statistics:\\n\", headline_stats)"
   ]
  },
  {
   "cell_type": "code",
   "execution_count": 12,
   "metadata": {},
   "outputs": [
    {
     "name": "stdout",
     "output_type": "stream",
     "text": [
      "Number of Articles Per Publisher:\n",
      " publisher\n",
      "Paul Quintaro        228373\n",
      "Lisa Levin           186979\n",
      "Benzinga Newsdesk    150484\n",
      "Charles Gross         96732\n",
      "Monica Gerson         82380\n",
      "                      ...  \n",
      "MoneyGeek                 1\n",
      "muathe                    1\n",
      "Robert Morris             1\n",
      "LeftCoastHedgie           1\n",
      "Jeremie Capron            1\n",
      "Name: count, Length: 1034, dtype: int64\n"
     ]
    }
   ],
   "source": [
    "# Count articles per publisher\n",
    "publisher_counts = data['publisher'].value_counts()\n",
    "print(\"Number of Articles Per Publisher:\\n\", publisher_counts)\n"
   ]
  },
  {
   "cell_type": "code",
   "execution_count": 13,
   "metadata": {},
   "outputs": [
    {
     "name": "stdout",
     "output_type": "stream",
     "text": [
      "Articles Per Day of the Week:\n",
      " day\n",
      "Friday      1\n",
      "Saturday    1\n",
      "Name: count, dtype: int64\n",
      "Articles Per Month:\n",
      " month\n",
      "June    2\n",
      "Name: count, dtype: int64\n"
     ]
    }
   ],
   "source": [
    "# Example data with timezone offset\n",
    "data = pd.DataFrame({'date': ['2020-06-05 10:30:54-04:00', '2020-06-06 15:45:00-04:00']})\n",
    "\n",
    "# Convert 'date' to datetime\n",
    "data['date'] = pd.to_datetime(data['date'])\n",
    "\n",
    "# Extract date parts for analysis\n",
    "data['day'] = data['date'].dt.day_name()\n",
    "data['month'] = data['date'].dt.month_name()\n",
    "\n",
    "# Count articles by day of the week\n",
    "day_counts = data['day'].value_counts()\n",
    "print(\"Articles Per Day of the Week:\\n\", day_counts)\n",
    "\n",
    "# Count articles by month\n",
    "month_counts = data['month'].value_counts()\n",
    "print(\"Articles Per Month:\\n\", month_counts)"
   ]
  },
  {
   "cell_type": "code",
   "execution_count": 8,
   "metadata": {},
   "outputs": [
    {
     "name": "stdout",
     "output_type": "stream",
     "text": [
      "Sentiment Analysis:\n",
      " sentiment_category\n",
      "Neutral     1038528\n",
      "Positive     269878\n",
      "Negative      96445\n",
      "Name: count, dtype: int64\n"
     ]
    }
   ],
   "source": [
    "from textblob import TextBlob\n",
    "\n",
    "# Calculate sentiment polarity\n",
    "data['sentiment'] = data['headline'].apply(lambda x: TextBlob(x).sentiment.polarity)\n",
    "\n",
    "# Categorize sentiment\n",
    "data['sentiment_category'] = pd.cut(\n",
    "    data['sentiment'], bins=[-1, -0.1, 0.1, 1], labels=['Negative', 'Neutral', 'Positive']\n",
    ")\n",
    "print(\"Sentiment Analysis:\\n\", data['sentiment_category'].value_counts())\n"
   ]
  },
  {
   "cell_type": "code",
   "execution_count": null,
   "metadata": {},
   "outputs": [],
   "source": []
  }
 ],
 "metadata": {
  "kernelspec": {
   "display_name": ".novafs",
   "language": "python",
   "name": "python3"
  },
  "language_info": {
   "codemirror_mode": {
    "name": "ipython",
    "version": 3
   },
   "file_extension": ".py",
   "mimetype": "text/x-python",
   "name": "python",
   "nbconvert_exporter": "python",
   "pygments_lexer": "ipython3",
   "version": "3.13.1"
  }
 },
 "nbformat": 4,
 "nbformat_minor": 2
}
